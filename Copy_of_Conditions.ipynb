{
  "nbformat": 4,
  "nbformat_minor": 0,
  "metadata": {
    "colab": {
      "provenance": [],
      "include_colab_link": true
    },
    "kernelspec": {
      "name": "python3",
      "display_name": "Python 3"
    },
    "language_info": {
      "name": "python"
    }
  },
  "cells": [
    {
      "cell_type": "markdown",
      "metadata": {
        "id": "view-in-github",
        "colab_type": "text"
      },
      "source": [
        "<a href=\"https://colab.research.google.com/github/FatmaNjaah88/FatmaNjaah88/blob/main/Copy_of_Conditions.ipynb\" target=\"_parent\"><img src=\"https://colab.research.google.com/assets/colab-badge.svg\" alt=\"Open In Colab\"/></a>"
      ]
    },
    {
      "cell_type": "markdown",
      "source": [
        "# Conditions"
      ],
      "metadata": {
        "id": "hZCaVFfHWPBf"
      }
    },
    {
      "cell_type": "code",
      "source": [
        "# Exercise 1: Check if a Number is Positive or Negative\n"
      ],
      "metadata": {
        "id": "K4a3DNI5y6KW"
      },
      "execution_count": null,
      "outputs": []
    },
    {
      "cell_type": "code",
      "source": [
        "n=int(input(\"Enter any number \"));\n",
        "if n>0:\n",
        "  print(\"Your number is Positive \");\n",
        "elif n<0:\n",
        "  print(\"Your number is Negative\");"
      ],
      "metadata": {
        "colab": {
          "base_uri": "https://localhost:8080/"
        },
        "id": "KhtTLc3fkgwD",
        "outputId": "0cf0e575-d6c6-4b4e-ff67-bae5d57c69a4"
      },
      "execution_count": 3,
      "outputs": [
        {
          "output_type": "stream",
          "name": "stdout",
          "text": [
            "Enter any number 8\n",
            "Your number is Positive \n"
          ]
        }
      ]
    },
    {
      "cell_type": "code",
      "source": [
        "# Exercise 2: Check if a Number is Even or Odd\n"
      ],
      "metadata": {
        "id": "ZooKTwzpy59j"
      },
      "execution_count": null,
      "outputs": []
    },
    {
      "cell_type": "code",
      "source": [
        "n=int(input(\"Enter any number \"));\n",
        "if n%2==0:\n",
        "  print(\"Even\");\n",
        "else:\n",
        "  print(\"Odd\");"
      ],
      "metadata": {
        "colab": {
          "base_uri": "https://localhost:8080/"
        },
        "id": "3jv5PMUIkgLv",
        "outputId": "bd1e3014-d550-4936-caec-2c7959748052"
      },
      "execution_count": 6,
      "outputs": [
        {
          "output_type": "stream",
          "name": "stdout",
          "text": [
            "Enter any number 8\n",
            "Even\n"
          ]
        }
      ]
    },
    {
      "cell_type": "code",
      "source": [
        "# Exercise 3: Find the Largest of Three Numbers\n"
      ],
      "metadata": {
        "id": "hQDEfZHsy5wo"
      },
      "execution_count": null,
      "outputs": []
    },
    {
      "cell_type": "code",
      "source": [
        "x=5; y=8; z=2;\n",
        "if x>=y and x>=z:\n",
        "  print(x);\n",
        "elif y>=x and y>=z:\n",
        "  print(y);\n",
        "else:\n",
        "  print(z);"
      ],
      "metadata": {
        "colab": {
          "base_uri": "https://localhost:8080/"
        },
        "id": "CM0lFtotlk20",
        "outputId": "32095d9d-79a1-41e5-b87e-e97c7473b374"
      },
      "execution_count": 9,
      "outputs": [
        {
          "output_type": "stream",
          "name": "stdout",
          "text": [
            "8\n"
          ]
        }
      ]
    },
    {
      "cell_type": "code",
      "source": [
        "# Exercise 4: Check if a Year is a Leap Year\n"
      ],
      "metadata": {
        "id": "nuyUDQSry5jo"
      },
      "execution_count": null,
      "outputs": []
    },
    {
      "cell_type": "code",
      "source": [
        "year=int(input(\"Enter a year \"));\n",
        "if year%400==0 or (year%4==0 and year%100!=0):\n",
        "  print(\"Leap year!\");\n",
        "else:\n",
        "  print(\"Not leap year \");\n"
      ],
      "metadata": {
        "colab": {
          "base_uri": "https://localhost:8080/"
        },
        "id": "WK8bfyXal_z7",
        "outputId": "bc3de341-3095-4181-b197-87b4e76e5872"
      },
      "execution_count": 14,
      "outputs": [
        {
          "output_type": "stream",
          "name": "stdout",
          "text": [
            "Enter a year 2024\n",
            "Leap year!\n"
          ]
        }
      ]
    },
    {
      "cell_type": "code",
      "source": [
        "# Exercise 5: Grade Evaluation\n"
      ],
      "metadata": {
        "id": "nNxOeuOKy5Xu"
      },
      "execution_count": null,
      "outputs": []
    },
    {
      "cell_type": "code",
      "source": [
        "grade=int(input(\"Enter yout grade between 0 and 100 \"));\n",
        "if grade>=90:\n",
        "  print(\"A\");\n",
        "elif grade>=80 and grade<90:\n",
        "    print(\"B\");\n",
        "elif grade>=70 and grade<80:\n",
        "  print(\"C\");\n",
        "elif grade>=60 and grade<70:\n",
        "  print(\"D\");\n",
        "elif grade<60:\n",
        "  print(\"F\");\n",
        "else:\n",
        "  print(\"Invalid grade\");"
      ],
      "metadata": {
        "colab": {
          "base_uri": "https://localhost:8080/"
        },
        "id": "FwAuRBNKnnD_",
        "outputId": "04feca34-b2dd-4ebf-a4be-0a43f4c901a9"
      },
      "execution_count": 47,
      "outputs": [
        {
          "output_type": "stream",
          "name": "stdout",
          "text": [
            "Enter yout grade between 0 and 100 98\n",
            "A\n"
          ]
        }
      ]
    },
    {
      "cell_type": "code",
      "source": [
        "# Exercise 6: Check if a Character is a Vowel or Consonant\n"
      ],
      "metadata": {
        "id": "DACr2w2Hy5Kn"
      },
      "execution_count": null,
      "outputs": []
    },
    {
      "cell_type": "code",
      "source": [
        "ch=input(\"Enter any charachter \");\n",
        "l=['a','e','o','i','y'];\n",
        "if ch in l:\n",
        "  print(\"The Character is a Vowel\");\n",
        "else:\n",
        "  print(\"The Character is a Consonant\");\n"
      ],
      "metadata": {
        "colab": {
          "base_uri": "https://localhost:8080/"
        },
        "id": "T9Gq2Ul0nwIm",
        "outputId": "82db61c7-8ebf-42c2-e7df-4677f682a3d6"
      },
      "execution_count": 16,
      "outputs": [
        {
          "output_type": "stream",
          "name": "stdout",
          "text": [
            "Enter any charachter f\n",
            "The Character is a Consonant\n"
          ]
        }
      ]
    },
    {
      "cell_type": "code",
      "source": [
        "# Exercise 7: Check if a Number is Within a Range\n"
      ],
      "metadata": {
        "id": "zGzC_ilmy4_o"
      },
      "execution_count": null,
      "outputs": []
    },
    {
      "cell_type": "code",
      "source": [
        "num=int(input(\"Enter any number \"));\n",
        "if num in range(10):\n",
        "  print(\"YES\");\n",
        "else:\n",
        "  print(\"NO\");\n"
      ],
      "metadata": {
        "colab": {
          "base_uri": "https://localhost:8080/"
        },
        "id": "LlJKwPCpo6TP",
        "outputId": "1de85a4e-c235-43e1-c422-9db02fe26036"
      },
      "execution_count": 18,
      "outputs": [
        {
          "output_type": "stream",
          "name": "stdout",
          "text": [
            "Enter any number 10\n",
            "NO\n"
          ]
        }
      ]
    },
    {
      "cell_type": "code",
      "source": [
        "# Exercise 8: Determine the Season Based on the Month\n"
      ],
      "metadata": {
        "id": "kRPRRyy2y40s"
      },
      "execution_count": null,
      "outputs": []
    },
    {
      "cell_type": "code",
      "source": [
        "month=int(input(\"Enter number of month between 1 and 12 \"));\n",
        "if month in [3,4,5]:\n",
        "  print(\"Spring\");\n",
        "elif month in [6,7,8,]:\n",
        "  print(\"Summer\");\n",
        "elif month in [9,10,11]:\n",
        "  print(\"Autumn\");\n",
        "elif month in [12,1,2]:\n",
        "  print(\"Winter\");\n",
        "else:\n",
        "  print(\"Invalid month\");\n"
      ],
      "metadata": {
        "colab": {
          "base_uri": "https://localhost:8080/"
        },
        "id": "F5JfKVPjpknk",
        "outputId": "31209115-1c51-48da-cb2d-4445c71f1f6e"
      },
      "execution_count": 24,
      "outputs": [
        {
          "output_type": "stream",
          "name": "stdout",
          "text": [
            "Enter number of month 1\n",
            "Winter\n"
          ]
        }
      ]
    },
    {
      "cell_type": "code",
      "source": [
        "# Exercise 9: Check if a String is Empty\n"
      ],
      "metadata": {
        "id": "RvNegGTKy4rS"
      },
      "execution_count": null,
      "outputs": []
    },
    {
      "cell_type": "code",
      "source": [
        "s=input(\"Enter a string \");\n",
        "s=s.strip();\n",
        "if s is None or s==\"\":\n",
        "  print(\"The string is empty\");\n",
        "else:\n",
        "  print(\"The string is NOT empty\");\n",
        ""
      ],
      "metadata": {
        "colab": {
          "base_uri": "https://localhost:8080/"
        },
        "id": "wStevRk8q_Zh",
        "outputId": "a95b3891-a66c-41ee-a0be-05bfb7d24c4b"
      },
      "execution_count": 43,
      "outputs": [
        {
          "output_type": "stream",
          "name": "stdout",
          "text": [
            "Enter a string  \n",
            "The string is empty\n"
          ]
        }
      ]
    },
    {
      "cell_type": "code",
      "source": [
        "# Exercise 10: Check if a Number is Divisible by Another Number\n"
      ],
      "metadata": {
        "id": "oyE1lz5Xy4hD"
      },
      "execution_count": null,
      "outputs": []
    },
    {
      "cell_type": "code",
      "source": [
        "n1=int(input(\"Enter the first number \"));\n",
        "n2=int(input(\"Enter second number !=0 \"));\n",
        "if (n1%n2==0 and n2!=0):\n",
        "  print(f\"{n1} is Divisible by {n2}\");\n",
        "else:\n",
        "  print(f\"{n1} is NOT Divisible by {n2}\");\n",
        ""
      ],
      "metadata": {
        "colab": {
          "base_uri": "https://localhost:8080/"
        },
        "id": "0V7fmBBcsSLb",
        "outputId": "d25b740f-3925-4307-9f4f-07b2bec03e33"
      },
      "execution_count": 42,
      "outputs": [
        {
          "output_type": "stream",
          "name": "stdout",
          "text": [
            "Enter the first number 8\n",
            "Enter second number !=0 3\n",
            "8 is NOT Divisible by 3\n"
          ]
        }
      ]
    }
  ]
}