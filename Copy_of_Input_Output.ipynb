{
  "nbformat": 4,
  "nbformat_minor": 0,
  "metadata": {
    "colab": {
      "provenance": [],
      "include_colab_link": true
    },
    "kernelspec": {
      "name": "python3",
      "display_name": "Python 3"
    },
    "language_info": {
      "name": "python"
    }
  },
  "cells": [
    {
      "cell_type": "markdown",
      "metadata": {
        "id": "view-in-github",
        "colab_type": "text"
      },
      "source": [
        "<a href=\"https://colab.research.google.com/github/FatmaNjaah88/FatmaNjaah88/blob/main/Copy_of_Input_Output.ipynb\" target=\"_parent\"><img src=\"https://colab.research.google.com/assets/colab-badge.svg\" alt=\"Open In Colab\"/></a>"
      ]
    },
    {
      "cell_type": "markdown",
      "source": [
        "# Input/Output"
      ],
      "metadata": {
        "id": "cQ_mARggWJt8"
      }
    },
    {
      "cell_type": "code",
      "source": [
        "# Exercise 1: Greeting User\n",
        "# Instructions: Ask the user for their name and greet them."
      ],
      "metadata": {
        "id": "2QSJokwhx1A_"
      },
      "execution_count": null,
      "outputs": []
    },
    {
      "cell_type": "code",
      "source": [
        "username=input(\"Enter your name \");\n",
        "print(f\"Hello, {username}\");"
      ],
      "metadata": {
        "colab": {
          "base_uri": "https://localhost:8080/"
        },
        "id": "hDpn04NvV8hk",
        "outputId": "a4f28912-cfb2-4ab5-a3f3-e90ab859b1ec"
      },
      "execution_count": 2,
      "outputs": [
        {
          "output_type": "stream",
          "name": "stdout",
          "text": [
            "Enter your name tomee\n",
            "Hello, tomee\n"
          ]
        }
      ]
    },
    {
      "cell_type": "code",
      "source": [
        "# Exercise 2: Simple Calculator\n",
        "# Instructions: Ask the user for two numbers and print their sum."
      ],
      "metadata": {
        "id": "z-uIAf_5x01w"
      },
      "execution_count": null,
      "outputs": []
    },
    {
      "cell_type": "code",
      "source": [
        "x=int(input(\"Enter the first number \"));\n",
        "y=int(input(\"Enter the second number \"));\n",
        "print(f\"{x} + {y} = {x+y}\");"
      ],
      "metadata": {
        "colab": {
          "base_uri": "https://localhost:8080/"
        },
        "id": "_esAwenTWOEY",
        "outputId": "e9a5d5dc-fb2e-45a2-b477-1ce0bd56474e"
      },
      "execution_count": 4,
      "outputs": [
        {
          "output_type": "stream",
          "name": "stdout",
          "text": [
            "Enter the first number 3\n",
            "Enter the second number 5\n",
            "3 + 5 = 8\n"
          ]
        }
      ]
    },
    {
      "cell_type": "code",
      "source": [
        "# Exercise 3: Age in Future\n",
        "# Instructions: Ask the user for their current age and calculate their age in 10 years."
      ],
      "metadata": {
        "id": "aJWM_I8yx0lj"
      },
      "execution_count": null,
      "outputs": []
    },
    {
      "cell_type": "code",
      "source": [
        "age=int(input(\"What is your age? \"));\n",
        "print(f\"Your age after 10 years will be {age+10}\");"
      ],
      "metadata": {
        "colab": {
          "base_uri": "https://localhost:8080/"
        },
        "id": "J_A-wzp7WyFh",
        "outputId": "7cae3f19-d333-4457-dadb-74f0d51f5042"
      },
      "execution_count": 8,
      "outputs": [
        {
          "output_type": "stream",
          "name": "stdout",
          "text": [
            "What is your age? 20\n",
            "Your age after 10 years will be 30\n"
          ]
        }
      ]
    },
    {
      "cell_type": "code",
      "source": [
        "# Exercise 4: Favorite Color\n",
        "# Instructions: Ask the user for their favorite color and print a message including their input."
      ],
      "metadata": {
        "id": "csD06Wypx0YY"
      },
      "execution_count": null,
      "outputs": []
    },
    {
      "cell_type": "code",
      "source": [
        "color=input(\"Enter your favorite color \");\n",
        "print(f\"Your favorite color is {color}\");"
      ],
      "metadata": {
        "colab": {
          "base_uri": "https://localhost:8080/"
        },
        "id": "BFqXYmndXgWa",
        "outputId": "f160eea6-e2db-489a-e494-24f3be4ab6a2"
      },
      "execution_count": 9,
      "outputs": [
        {
          "output_type": "stream",
          "name": "stdout",
          "text": [
            "Enter your favorite color violet\n",
            "Your favorite color is violet\n"
          ]
        }
      ]
    },
    {
      "cell_type": "markdown",
      "source": [],
      "metadata": {
        "id": "aNeMHZEMXfGp"
      }
    },
    {
      "cell_type": "code",
      "source": [
        "# Exercise 5: Temperature Conversion\n",
        "# Instructions: Ask the user for a temperature in Celsius and convert it to Fahrenheit."
      ],
      "metadata": {
        "id": "jlM-yXOGx0R4"
      },
      "execution_count": null,
      "outputs": []
    },
    {
      "cell_type": "code",
      "source": [
        "cel=float(input(\"Enter the Temperature \" ));\n",
        "fahren=cel*(9/5) + 32;\n",
        "print(fahren);"
      ],
      "metadata": {
        "colab": {
          "base_uri": "https://localhost:8080/"
        },
        "id": "QDTroF17dBy_",
        "outputId": "f14b5bb6-5505-48cc-c043-48629af05a6f"
      },
      "execution_count": 13,
      "outputs": [
        {
          "output_type": "stream",
          "name": "stdout",
          "text": [
            "Enter the Temperature 40\n",
            "104.0\n"
          ]
        }
      ]
    },
    {
      "cell_type": "code",
      "source": [
        "# Exercise 6: Rectangle Area\n",
        "# Instructions: Ask the user for the width and height of a rectangle and calculate the area."
      ],
      "metadata": {
        "id": "3cXdbT7Zxz2j"
      },
      "execution_count": null,
      "outputs": []
    },
    {
      "cell_type": "code",
      "source": [
        "width=float(input(\"Enter the width of a rectangle \"));\n",
        "height=float(input(\"Enter the height of a rectangle \"));\n",
        "area=width*height;\n",
        "print(f\"Area = {area}\");"
      ],
      "metadata": {
        "colab": {
          "base_uri": "https://localhost:8080/"
        },
        "id": "nCglkhCLeKk4",
        "outputId": "2ca28781-c622-4fed-fb99-8600c22f35bb"
      },
      "execution_count": 16,
      "outputs": [
        {
          "output_type": "stream",
          "name": "stdout",
          "text": [
            "Enter the width of a rectangle 4\n",
            "Enter the height of a rectangle 5\n",
            "Area = 20.0\n"
          ]
        }
      ]
    },
    {
      "cell_type": "code",
      "source": [
        "# Exercise 7: Personal Information\n",
        "# Instructions: Ask the user for their name, age, and city, then print a summary."
      ],
      "metadata": {
        "id": "A6X4NwGcxznS"
      },
      "execution_count": null,
      "outputs": []
    },
    {
      "cell_type": "code",
      "source": [
        "name=input(\"Enter your name \");\n",
        "age=int(input(\"Enter your age \"));\n",
        "city=input(\"Enter your city \");\n",
        "print(f\"Name : {name} , Age : {age} , City : {city}\");"
      ],
      "metadata": {
        "colab": {
          "base_uri": "https://localhost:8080/"
        },
        "id": "Aqx0f8Lpey-n",
        "outputId": "630a90b1-cce3-42a8-f5c2-251a466107f2"
      },
      "execution_count": 17,
      "outputs": [
        {
          "output_type": "stream",
          "name": "stdout",
          "text": [
            "Enter your name tomee\n",
            "Enter your age 20\n",
            "Enter your city mallawi\n",
            "Name : tomee , Age : 20 , City : mallawi\n"
          ]
        }
      ]
    },
    {
      "cell_type": "code",
      "source": [
        "# Exercise 8: Favorite Number\n",
        "# Instructions: Ask the user for their favorite number and print it doubled."
      ],
      "metadata": {
        "id": "BU9Z4Sn2xzj6"
      },
      "execution_count": null,
      "outputs": []
    },
    {
      "cell_type": "code",
      "source": [
        "n=input(\"Enter your favorite number \");\n",
        "print(n+n);"
      ],
      "metadata": {
        "colab": {
          "base_uri": "https://localhost:8080/"
        },
        "id": "A_UMpNm2fYQb",
        "outputId": "eb4ed82b-c925-42d3-f81a-d3682590c137"
      },
      "execution_count": 20,
      "outputs": [
        {
          "output_type": "stream",
          "name": "stdout",
          "text": [
            "Enter your favorite number 8\n",
            "88\n"
          ]
        }
      ]
    },
    {
      "cell_type": "code",
      "source": [
        "# Exercise 9: Multiplication Table\n",
        "# Instructions: Ask the user for a number and print the multiplication table for that number up to 10."
      ],
      "metadata": {
        "id": "cU3tXspCxzg-"
      },
      "execution_count": null,
      "outputs": []
    },
    {
      "cell_type": "code",
      "source": [
        "n=int(input(\"Enter integer number \"));\n",
        "range=[1,2,3,4,5,6,7,8,9,10];\n",
        "for i  in range:\n",
        "  print(i*n);\n",
        "\n",
        "#another solution\n",
        "# del range\n",
        "# for x in range(1,11):\n",
        "#   print(n*x);\n"
      ],
      "metadata": {
        "colab": {
          "base_uri": "https://localhost:8080/"
        },
        "id": "9AimBDFEf4EH",
        "outputId": "4ca2a278-7c0d-4328-b212-78449b732609"
      },
      "execution_count": 31,
      "outputs": [
        {
          "output_type": "stream",
          "name": "stdout",
          "text": [
            "Enter integer number 8\n",
            "8\n",
            "16\n",
            "24\n",
            "32\n",
            "40\n",
            "48\n",
            "56\n",
            "64\n",
            "72\n",
            "80\n"
          ]
        }
      ]
    },
    {
      "cell_type": "code",
      "source": [
        "# Exercise 10: Favorite Food\n",
        "# Instructions: Ask the user for their favorite food and print a message including their input."
      ],
      "metadata": {
        "id": "4x_ssf-JxzeK"
      },
      "execution_count": null,
      "outputs": []
    },
    {
      "cell_type": "code",
      "source": [
        "favFood=input(\"Enter your favorite food \");\n",
        "print(favFood);"
      ],
      "metadata": {
        "colab": {
          "base_uri": "https://localhost:8080/"
        },
        "id": "zqJRauWFihmh",
        "outputId": "9265cd0a-db58-4cc6-c55c-9f3f737ca6ce"
      },
      "execution_count": 32,
      "outputs": [
        {
          "output_type": "stream",
          "name": "stdout",
          "text": [
            "Enter your favorite food pasta\n",
            "pasta\n"
          ]
        }
      ]
    }
  ]
}