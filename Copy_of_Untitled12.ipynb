{
  "nbformat": 4,
  "nbformat_minor": 0,
  "metadata": {
    "colab": {
      "provenance": [],
      "authorship_tag": "ABX9TyOUt8colkpcPql5vfo8D21o",
      "include_colab_link": true
    },
    "kernelspec": {
      "name": "python3",
      "display_name": "Python 3"
    },
    "language_info": {
      "name": "python"
    }
  },
  "cells": [
    {
      "cell_type": "markdown",
      "metadata": {
        "id": "view-in-github",
        "colab_type": "text"
      },
      "source": [
        "<a href=\"https://colab.research.google.com/github/FatmaNjaah88/FatmaNjaah88/blob/main/Copy_of_Untitled12.ipynb\" target=\"_parent\"><img src=\"https://colab.research.google.com/assets/colab-badge.svg\" alt=\"Open In Colab\"/></a>"
      ]
    },
    {
      "cell_type": "code",
      "execution_count": null,
      "metadata": {
        "colab": {
          "base_uri": "https://localhost:8080/"
        },
        "id": "xZePEcZT6eKI",
        "outputId": "c2469bdf-fadb-4597-d851-3266d529487e"
      },
      "outputs": [
        {
          "output_type": "stream",
          "name": "stdout",
          "text": [
            "Hello world\n",
            "Hello world\n",
            "Hello world\n",
            "Hello world\n"
          ]
        }
      ],
      "source": [
        "x=4\n",
        "while x>0:\n",
        "  print(\"Hello world\")\n",
        "  x-=1\n",
        "\n",
        "\n"
      ]
    },
    {
      "cell_type": "code",
      "source": [
        "x=4.0\n",
        "y=6.0\n",
        "print((x+y)/2)"
      ],
      "metadata": {
        "colab": {
          "base_uri": "https://localhost:8080/"
        },
        "id": "CoLdZGal6yZc",
        "outputId": "4ba753d3-a050-466e-ff27-46b3c46a2aa5"
      },
      "execution_count": null,
      "outputs": [
        {
          "output_type": "stream",
          "name": "stdout",
          "text": [
            "5.0\n"
          ]
        }
      ]
    },
    {
      "cell_type": "code",
      "source": [
        "l=[0,1,2,3,4,5,6,7,8,9,10]\n",
        "for k in l:\n",
        "  if (k%2==0):\n",
        "    print(k)"
      ],
      "metadata": {
        "colab": {
          "base_uri": "https://localhost:8080/"
        },
        "id": "d0n-bf-66yvH",
        "outputId": "99a58f89-d429-4925-9c7b-451a8c6c572e"
      },
      "execution_count": null,
      "outputs": [
        {
          "output_type": "stream",
          "name": "stdout",
          "text": [
            "0\n",
            "2\n",
            "4\n",
            "6\n",
            "8\n",
            "10\n"
          ]
        }
      ]
    },
    {
      "cell_type": "code",
      "source": [
        "\n",
        "s=input()\n",
        "l=s.split(\" \")\n",
        "print(len(l))\n"
      ],
      "metadata": {
        "colab": {
          "base_uri": "https://localhost:8080/"
        },
        "id": "OD2sW4XR6yzE",
        "outputId": "da6cb7cf-d586-4126-9f92-03cd3a810223"
      },
      "execution_count": null,
      "outputs": [
        {
          "output_type": "stream",
          "name": "stdout",
          "text": [
            "I like python\n",
            "3\n"
          ]
        }
      ]
    },
    {
      "cell_type": "code",
      "source": [
        "l1=[\"name\",\"age\"]\n",
        "l2=[\"tomee\",20]\n",
        "dic={l1[0]:l2[0],l1[1]:l2[1]}\n",
        "# dic[l1[0]]=l2[0]\n",
        "# dic[l1[1]]=l2[1]\n",
        "print(dic)"
      ],
      "metadata": {
        "colab": {
          "base_uri": "https://localhost:8080/"
        },
        "id": "uts5DxnR6y3e",
        "outputId": "35df7f25-44d9-47f7-fa9c-85d3a78c8ea2"
      },
      "execution_count": null,
      "outputs": [
        {
          "output_type": "stream",
          "name": "stdout",
          "text": [
            "{'name': 'tomee', 'age': 20}\n"
          ]
        }
      ]
    },
    {
      "cell_type": "code",
      "source": [
        "import numpy as np\n",
        "mat=[[1,2],\n",
        "     [3,4]]\n",
        "s=np.shape(mat)\n",
        "print(s[0]==s[1])"
      ],
      "metadata": {
        "colab": {
          "base_uri": "https://localhost:8080/"
        },
        "id": "bEUNYir76y7g",
        "outputId": "66438da4-1c7b-4225-c768-1b12b461dbe2"
      },
      "execution_count": null,
      "outputs": [
        {
          "output_type": "stream",
          "name": "stdout",
          "text": [
            "True\n"
          ]
        }
      ]
    },
    {
      "cell_type": "code",
      "source": [
        "from typing_extensions import Counter\n",
        "l=[1,2,3,1,2,4]\n",
        "# if Counter(l)==2:\n",
        "dic=Counter(l)#{1:2,2:2,3:1,4:1}\n",
        "l=list(set(l))#remove duplicate\n",
        "for k in l:#1 2 3 1 2 4\n",
        "  if dic[k]==2:\n",
        "   print(k)"
      ],
      "metadata": {
        "colab": {
          "base_uri": "https://localhost:8080/"
        },
        "id": "XAVWrNS_G5Vq",
        "outputId": "db884633-cb83-4aef-c567-ecd6150a6b00"
      },
      "execution_count": null,
      "outputs": [
        {
          "output_type": "stream",
          "name": "stdout",
          "text": [
            "1\n",
            "2\n"
          ]
        }
      ]
    },
    {
      "cell_type": "code",
      "source": [
        "txt=\"my name is tomee and my friend's name is tomee\"\n",
        "l=txt.split(\" \")\n",
        "dic=Counter(l)\n",
        "l=list(set(l))\n",
        "for k in l:\n",
        "  if dic[k]>1:\n",
        "   print(k)\n"
      ],
      "metadata": {
        "colab": {
          "base_uri": "https://localhost:8080/"
        },
        "id": "0iS9XAEVG5qX",
        "outputId": "55febed6-c4aa-46d4-d01f-ff595eef18b1"
      },
      "execution_count": null,
      "outputs": [
        {
          "output_type": "stream",
          "name": "stdout",
          "text": [
            "name\n",
            "tomee\n",
            "my\n",
            "is\n"
          ]
        }
      ]
    },
    {
      "cell_type": "code",
      "source": [
        "def  count_chars (text,char):\n",
        "  c=0\n",
        "  for i in text:\n",
        "    if char == i:\n",
        "      c+=1\n",
        "  return c\n",
        " # return text.count(char)\n",
        "\n",
        "print( count_chars (\"fatooomaa\",'a'))\n",
        "\n"
      ],
      "metadata": {
        "colab": {
          "base_uri": "https://localhost:8080/"
        },
        "id": "MJTADvXbG6Gs",
        "outputId": "d0b86b8e-a1c1-457e-a996-7ae955c264e0"
      },
      "execution_count": null,
      "outputs": [
        {
          "output_type": "stream",
          "name": "stdout",
          "text": [
            "3\n"
          ]
        }
      ]
    }
  ]
}