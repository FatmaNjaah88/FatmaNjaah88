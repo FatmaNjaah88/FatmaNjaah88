{
  "nbformat": 4,
  "nbformat_minor": 0,
  "metadata": {
    "colab": {
      "provenance": [],
      "include_colab_link": true
    },
    "kernelspec": {
      "name": "python3",
      "display_name": "Python 3"
    },
    "language_info": {
      "name": "python"
    }
  },
  "cells": [
    {
      "cell_type": "markdown",
      "metadata": {
        "id": "view-in-github",
        "colab_type": "text"
      },
      "source": [
        "<a href=\"https://colab.research.google.com/github/FatmaNjaah88/FatmaNjaah88/blob/main/Copy_of_loops.ipynb\" target=\"_parent\"><img src=\"https://colab.research.google.com/assets/colab-badge.svg\" alt=\"Open In Colab\"/></a>"
      ]
    },
    {
      "cell_type": "markdown",
      "source": [
        "# Loops"
      ],
      "metadata": {
        "id": "hPFgUr_dWTah"
      }
    },
    {
      "cell_type": "code",
      "source": [
        "# Exercise 1: Print Numbers 1 to 10"
      ],
      "metadata": {
        "id": "trhaatcKz51E"
      },
      "execution_count": null,
      "outputs": []
    },
    {
      "cell_type": "code",
      "source": [
        "for i in range(1,11):\n",
        "  print(i)"
      ],
      "metadata": {
        "id": "z5HkiZ2Bbol6",
        "outputId": "1f7b936b-2f05-4bbf-fec6-807b6e615410",
        "colab": {
          "base_uri": "https://localhost:8080/"
        }
      },
      "execution_count": 2,
      "outputs": [
        {
          "output_type": "stream",
          "name": "stdout",
          "text": [
            "1\n",
            "2\n",
            "3\n",
            "4\n",
            "5\n",
            "6\n",
            "7\n",
            "8\n",
            "9\n",
            "10\n"
          ]
        }
      ]
    },
    {
      "cell_type": "code",
      "source": [
        "# Exercise 2: Sum of Numbers 1 to 100"
      ],
      "metadata": {
        "id": "HDb-G6sez5pN"
      },
      "execution_count": null,
      "outputs": []
    },
    {
      "cell_type": "code",
      "source": [
        "sum=0;\n",
        "for i in range(1,101):\n",
        "  sum+=(i);\n",
        "print(sum);"
      ],
      "metadata": {
        "id": "ADyvN1Ktb6Iq",
        "outputId": "70cc542a-4323-4ef7-e965-e9b5b02cd5d8",
        "colab": {
          "base_uri": "https://localhost:8080/"
        }
      },
      "execution_count": 1,
      "outputs": [
        {
          "output_type": "stream",
          "name": "stdout",
          "text": [
            "5050\n"
          ]
        }
      ]
    },
    {
      "cell_type": "code",
      "source": [
        "# Exercise 3: Multiplication Table"
      ],
      "metadata": {
        "id": "ixqL1-vcz5dB"
      },
      "execution_count": null,
      "outputs": []
    },
    {
      "cell_type": "code",
      "source": [
        "for i in range(1,13):\n",
        "  for j in range(i,13):\n",
        "    print(f\"{i} * {j} = {i*j}\");\n",
        "  print();"
      ],
      "metadata": {
        "id": "VXvWAGUem1bn",
        "outputId": "32a0cb9d-7d6c-4515-d2f4-aedf98b91e50",
        "colab": {
          "base_uri": "https://localhost:8080/"
        }
      },
      "execution_count": 5,
      "outputs": [
        {
          "output_type": "stream",
          "name": "stdout",
          "text": [
            "1 * 1 = 1\n",
            "1 * 2 = 2\n",
            "1 * 3 = 3\n",
            "1 * 4 = 4\n",
            "1 * 5 = 5\n",
            "1 * 6 = 6\n",
            "1 * 7 = 7\n",
            "1 * 8 = 8\n",
            "1 * 9 = 9\n",
            "1 * 10 = 10\n",
            "1 * 11 = 11\n",
            "1 * 12 = 12\n",
            "\n",
            "2 * 2 = 4\n",
            "2 * 3 = 6\n",
            "2 * 4 = 8\n",
            "2 * 5 = 10\n",
            "2 * 6 = 12\n",
            "2 * 7 = 14\n",
            "2 * 8 = 16\n",
            "2 * 9 = 18\n",
            "2 * 10 = 20\n",
            "2 * 11 = 22\n",
            "2 * 12 = 24\n",
            "\n",
            "3 * 3 = 9\n",
            "3 * 4 = 12\n",
            "3 * 5 = 15\n",
            "3 * 6 = 18\n",
            "3 * 7 = 21\n",
            "3 * 8 = 24\n",
            "3 * 9 = 27\n",
            "3 * 10 = 30\n",
            "3 * 11 = 33\n",
            "3 * 12 = 36\n",
            "\n",
            "4 * 4 = 16\n",
            "4 * 5 = 20\n",
            "4 * 6 = 24\n",
            "4 * 7 = 28\n",
            "4 * 8 = 32\n",
            "4 * 9 = 36\n",
            "4 * 10 = 40\n",
            "4 * 11 = 44\n",
            "4 * 12 = 48\n",
            "\n",
            "5 * 5 = 25\n",
            "5 * 6 = 30\n",
            "5 * 7 = 35\n",
            "5 * 8 = 40\n",
            "5 * 9 = 45\n",
            "5 * 10 = 50\n",
            "5 * 11 = 55\n",
            "5 * 12 = 60\n",
            "\n",
            "6 * 6 = 36\n",
            "6 * 7 = 42\n",
            "6 * 8 = 48\n",
            "6 * 9 = 54\n",
            "6 * 10 = 60\n",
            "6 * 11 = 66\n",
            "6 * 12 = 72\n",
            "\n",
            "7 * 7 = 49\n",
            "7 * 8 = 56\n",
            "7 * 9 = 63\n",
            "7 * 10 = 70\n",
            "7 * 11 = 77\n",
            "7 * 12 = 84\n",
            "\n",
            "8 * 8 = 64\n",
            "8 * 9 = 72\n",
            "8 * 10 = 80\n",
            "8 * 11 = 88\n",
            "8 * 12 = 96\n",
            "\n",
            "9 * 9 = 81\n",
            "9 * 10 = 90\n",
            "9 * 11 = 99\n",
            "9 * 12 = 108\n",
            "\n",
            "10 * 10 = 100\n",
            "10 * 11 = 110\n",
            "10 * 12 = 120\n",
            "\n",
            "11 * 11 = 121\n",
            "11 * 12 = 132\n",
            "\n",
            "12 * 12 = 144\n",
            "\n"
          ]
        }
      ]
    },
    {
      "cell_type": "code",
      "source": [
        "# Exercise 4: Print Each Character in a String"
      ],
      "metadata": {
        "id": "RoBVd1Hbz5Sb"
      },
      "execution_count": null,
      "outputs": []
    },
    {
      "cell_type": "code",
      "source": [
        "s=\"My name is Tomee\";\n",
        "for ch in s:\n",
        "  print(ch);"
      ],
      "metadata": {
        "id": "xe0fYPLJnhjF",
        "outputId": "d75389b8-d98d-46e9-8259-f6645d96617a",
        "colab": {
          "base_uri": "https://localhost:8080/"
        }
      },
      "execution_count": 6,
      "outputs": [
        {
          "output_type": "stream",
          "name": "stdout",
          "text": [
            "M\n",
            "y\n",
            " \n",
            "n\n",
            "a\n",
            "m\n",
            "e\n",
            " \n",
            "i\n",
            "s\n",
            " \n",
            "T\n",
            "o\n",
            "m\n",
            "e\n",
            "e\n"
          ]
        }
      ]
    },
    {
      "cell_type": "code",
      "source": [
        "# Exercise 5: List Elements"
      ],
      "metadata": {
        "id": "5vjnO7Vjz5Hs"
      },
      "execution_count": null,
      "outputs": []
    },
    {
      "cell_type": "code",
      "source": [
        "fruits=[\"Apple\",\"Banana\",\"Orange\"];\n",
        "for fruit in fruits:\n",
        "  print(fruit);"
      ],
      "metadata": {
        "id": "qgV1F8bGnrcr",
        "outputId": "1abf66b9-dcc8-4f22-92f3-6296801bed5c",
        "colab": {
          "base_uri": "https://localhost:8080/"
        }
      },
      "execution_count": 7,
      "outputs": [
        {
          "output_type": "stream",
          "name": "stdout",
          "text": [
            "Apple\n",
            "Banana\n",
            "Orange\n"
          ]
        }
      ]
    },
    {
      "cell_type": "code",
      "source": [
        "# Exercise 6: While Loop Countdown"
      ],
      "metadata": {
        "id": "xFYnsEYBz46f"
      },
      "execution_count": null,
      "outputs": []
    },
    {
      "cell_type": "code",
      "source": [
        "x=8;\n",
        "while x>0:\n",
        "  print(x);\n",
        "  x-=1;"
      ],
      "metadata": {
        "id": "progsD9sn-fC",
        "outputId": "ebcbfd6a-4b3e-47af-8895-f3e2cd7c509a",
        "colab": {
          "base_uri": "https://localhost:8080/"
        }
      },
      "execution_count": 8,
      "outputs": [
        {
          "output_type": "stream",
          "name": "stdout",
          "text": [
            "8\n",
            "7\n",
            "6\n",
            "5\n",
            "4\n",
            "3\n",
            "2\n",
            "1\n"
          ]
        }
      ]
    },
    {
      "cell_type": "code",
      "source": [
        "# Exercise 7: Sum of Even Numbers 1 to 50"
      ],
      "metadata": {
        "id": "PNMYNutmz4vx"
      },
      "execution_count": null,
      "outputs": []
    },
    {
      "cell_type": "code",
      "source": [
        "sumEven=0;\n",
        "for i in range(1,51):\n",
        "  if i%2==0:\n",
        "     sumEven+=i;\n",
        "\n",
        "print(sumEven);\n",
        "\n",
        "\n",
        "\n",
        "#another solution\n",
        "# sumEven=0;\n",
        "# for i in range(2,51,2):\n",
        "#   sumEven+=i;\n",
        "\n",
        "# print(sumEven);\n"
      ],
      "metadata": {
        "id": "wAV70qGqoJ7h",
        "outputId": "ac7fbba8-fa2c-405e-a176-6d0e9f537cc1",
        "colab": {
          "base_uri": "https://localhost:8080/"
        }
      },
      "execution_count": 11,
      "outputs": [
        {
          "output_type": "stream",
          "name": "stdout",
          "text": [
            "650\n"
          ]
        }
      ]
    },
    {
      "cell_type": "code",
      "source": [
        "# Exercise 8: Break in Loop"
      ],
      "metadata": {
        "id": "6RgHAOoNz4kQ"
      },
      "execution_count": null,
      "outputs": []
    },
    {
      "cell_type": "code",
      "source": [
        "for i in range(8):\n",
        "  if i==5:\n",
        "    break;\n",
        "  print(i);"
      ],
      "metadata": {
        "id": "m4jIrzCTozvd",
        "outputId": "7cc6b5a7-7d08-4ae6-b3ff-a63843d5b7a6",
        "colab": {
          "base_uri": "https://localhost:8080/"
        }
      },
      "execution_count": 12,
      "outputs": [
        {
          "output_type": "stream",
          "name": "stdout",
          "text": [
            "0\n",
            "1\n",
            "2\n",
            "3\n",
            "4\n"
          ]
        }
      ]
    },
    {
      "cell_type": "code",
      "source": [
        "# Exercise 9: Continue in Loop"
      ],
      "metadata": {
        "id": "TzqFxsGdz4aV"
      },
      "execution_count": null,
      "outputs": []
    },
    {
      "cell_type": "code",
      "source": [
        "for i in range(9):\n",
        "  if i==5:\n",
        "    continue;\n",
        "  print(i);"
      ],
      "metadata": {
        "id": "0gGkxvA7o_cN",
        "outputId": "60c71e01-c536-4a16-8988-0a085b372c48",
        "colab": {
          "base_uri": "https://localhost:8080/"
        }
      },
      "execution_count": 14,
      "outputs": [
        {
          "output_type": "stream",
          "name": "stdout",
          "text": [
            "0\n",
            "1\n",
            "2\n",
            "3\n",
            "4\n",
            "6\n",
            "7\n",
            "8\n"
          ]
        }
      ]
    },
    {
      "cell_type": "code",
      "source": [
        "# Exercise 10: Nested Loops (Multiplication Table)"
      ],
      "metadata": {
        "id": "Wvj1n5oXz4RW"
      },
      "execution_count": null,
      "outputs": []
    },
    {
      "cell_type": "code",
      "source": [
        "for i in range(1,13):\n",
        "  for j in range(i,13):\n",
        "    print(f\"{i} * {j} = {i*j}\");\n",
        "  print();"
      ],
      "metadata": {
        "id": "8QLMUT2KpJNB",
        "outputId": "3c43d599-ee08-483e-d687-a5162bae27e1",
        "colab": {
          "base_uri": "https://localhost:8080/"
        }
      },
      "execution_count": 15,
      "outputs": [
        {
          "output_type": "stream",
          "name": "stdout",
          "text": [
            "1 * 1 = 1\n",
            "1 * 2 = 2\n",
            "1 * 3 = 3\n",
            "1 * 4 = 4\n",
            "1 * 5 = 5\n",
            "1 * 6 = 6\n",
            "1 * 7 = 7\n",
            "1 * 8 = 8\n",
            "1 * 9 = 9\n",
            "1 * 10 = 10\n",
            "1 * 11 = 11\n",
            "1 * 12 = 12\n",
            "\n",
            "2 * 2 = 4\n",
            "2 * 3 = 6\n",
            "2 * 4 = 8\n",
            "2 * 5 = 10\n",
            "2 * 6 = 12\n",
            "2 * 7 = 14\n",
            "2 * 8 = 16\n",
            "2 * 9 = 18\n",
            "2 * 10 = 20\n",
            "2 * 11 = 22\n",
            "2 * 12 = 24\n",
            "\n",
            "3 * 3 = 9\n",
            "3 * 4 = 12\n",
            "3 * 5 = 15\n",
            "3 * 6 = 18\n",
            "3 * 7 = 21\n",
            "3 * 8 = 24\n",
            "3 * 9 = 27\n",
            "3 * 10 = 30\n",
            "3 * 11 = 33\n",
            "3 * 12 = 36\n",
            "\n",
            "4 * 4 = 16\n",
            "4 * 5 = 20\n",
            "4 * 6 = 24\n",
            "4 * 7 = 28\n",
            "4 * 8 = 32\n",
            "4 * 9 = 36\n",
            "4 * 10 = 40\n",
            "4 * 11 = 44\n",
            "4 * 12 = 48\n",
            "\n",
            "5 * 5 = 25\n",
            "5 * 6 = 30\n",
            "5 * 7 = 35\n",
            "5 * 8 = 40\n",
            "5 * 9 = 45\n",
            "5 * 10 = 50\n",
            "5 * 11 = 55\n",
            "5 * 12 = 60\n",
            "\n",
            "6 * 6 = 36\n",
            "6 * 7 = 42\n",
            "6 * 8 = 48\n",
            "6 * 9 = 54\n",
            "6 * 10 = 60\n",
            "6 * 11 = 66\n",
            "6 * 12 = 72\n",
            "\n",
            "7 * 7 = 49\n",
            "7 * 8 = 56\n",
            "7 * 9 = 63\n",
            "7 * 10 = 70\n",
            "7 * 11 = 77\n",
            "7 * 12 = 84\n",
            "\n",
            "8 * 8 = 64\n",
            "8 * 9 = 72\n",
            "8 * 10 = 80\n",
            "8 * 11 = 88\n",
            "8 * 12 = 96\n",
            "\n",
            "9 * 9 = 81\n",
            "9 * 10 = 90\n",
            "9 * 11 = 99\n",
            "9 * 12 = 108\n",
            "\n",
            "10 * 10 = 100\n",
            "10 * 11 = 110\n",
            "10 * 12 = 120\n",
            "\n",
            "11 * 11 = 121\n",
            "11 * 12 = 132\n",
            "\n",
            "12 * 12 = 144\n",
            "\n"
          ]
        }
      ]
    },
    {
      "cell_type": "code",
      "source": [
        "# Exercise 11: Factorial of a Number"
      ],
      "metadata": {
        "id": "ea2qJ0cTz3_8"
      },
      "execution_count": null,
      "outputs": []
    },
    {
      "cell_type": "code",
      "source": [
        "n=5;\n",
        "fact=1;\n",
        "while n>0:\n",
        "  fact*=n;\n",
        "  n-=1;\n",
        "\n",
        "print(fact);\n",
        "\n"
      ],
      "metadata": {
        "id": "RvClavgMpQul",
        "outputId": "5bfe67bf-ab2a-47d0-80cb-aafcd7351183",
        "colab": {
          "base_uri": "https://localhost:8080/"
        }
      },
      "execution_count": 17,
      "outputs": [
        {
          "output_type": "stream",
          "name": "stdout",
          "text": [
            "120\n"
          ]
        }
      ]
    },
    {
      "cell_type": "code",
      "source": [
        "# Exercise 12: Fibonacci Sequence"
      ],
      "metadata": {
        "id": "bGYRjQPGz3x8"
      },
      "execution_count": null,
      "outputs": []
    },
    {
      "cell_type": "code",
      "source": [
        "fib1=0;\n",
        "fib2=1;\n",
        "for i in range(9):\n",
        "  print(fib1+fib2);\n",
        "  temp=fib1;\n",
        "  fib1=fib2;\n",
        "  fib2=fib2+temp;\n"
      ],
      "metadata": {
        "id": "XKSvJg-vpnfZ",
        "outputId": "cf0ee846-5bd7-435f-bec3-a8ed7d8f15ee",
        "colab": {
          "base_uri": "https://localhost:8080/"
        }
      },
      "execution_count": 19,
      "outputs": [
        {
          "output_type": "stream",
          "name": "stdout",
          "text": [
            "1\n",
            "2\n",
            "3\n",
            "5\n",
            "8\n",
            "13\n",
            "21\n",
            "34\n",
            "55\n"
          ]
        }
      ]
    },
    {
      "cell_type": "code",
      "source": [
        "# Exercise 13: Sum of Digits"
      ],
      "metadata": {
        "id": "0dg1aVRBz3oC"
      },
      "execution_count": null,
      "outputs": []
    },
    {
      "cell_type": "code",
      "source": [
        "n=1384;\n",
        "sumDigit=0;\n",
        "while n>0:\n",
        "  sumDigit+=int(n%10);\n",
        "  n/=10;\n",
        "print(sumDigit);"
      ],
      "metadata": {
        "id": "NbwAAHAMqcpR",
        "outputId": "580d008a-f1a1-4946-cfbd-920d3129b298",
        "colab": {
          "base_uri": "https://localhost:8080/"
        }
      },
      "execution_count": 21,
      "outputs": [
        {
          "output_type": "stream",
          "name": "stdout",
          "text": [
            "16\n"
          ]
        }
      ]
    },
    {
      "cell_type": "code",
      "source": [
        "# Exercise 14: Prime Numbers Between 1 and 50"
      ],
      "metadata": {
        "id": "_W6VjoDSz3eE"
      },
      "execution_count": null,
      "outputs": []
    },
    {
      "cell_type": "code",
      "source": [
        "print(2);\n",
        "for i in range(3,51):\n",
        "  f=False;\n",
        "  for j in range(2,i):# or to sqrt(i)\n",
        "    if i%j==0:\n",
        "      f=True;\n",
        "      break;\n",
        "  if(f==False):\n",
        "    print(i);\n"
      ],
      "metadata": {
        "id": "pPIpJzljqvDz",
        "outputId": "c9336695-e4fb-485c-bc77-da802e811c45",
        "colab": {
          "base_uri": "https://localhost:8080/"
        }
      },
      "execution_count": 23,
      "outputs": [
        {
          "output_type": "stream",
          "name": "stdout",
          "text": [
            "2\n",
            "3\n",
            "5\n",
            "7\n",
            "11\n",
            "13\n",
            "17\n",
            "19\n",
            "23\n",
            "29\n",
            "31\n",
            "37\n",
            "41\n",
            "43\n",
            "47\n"
          ]
        }
      ]
    },
    {
      "cell_type": "code",
      "source": [
        "# Exercise 15: Reverse a String"
      ],
      "metadata": {
        "id": "Jlwg0Kzrz3Wb"
      },
      "execution_count": null,
      "outputs": []
    },
    {
      "cell_type": "code",
      "source": [
        "s=\"Tomee\";\n",
        "l=len(s)-1;\n",
        "while l>=0:\n",
        "  print(s[l]);\n",
        "  l-=1;"
      ],
      "metadata": {
        "id": "HfTxWFe3sF4R",
        "outputId": "709e6536-0050-46c7-c5c7-e9c9dfc17939",
        "colab": {
          "base_uri": "https://localhost:8080/"
        }
      },
      "execution_count": 24,
      "outputs": [
        {
          "output_type": "stream",
          "name": "stdout",
          "text": [
            "e\n",
            "e\n",
            "m\n",
            "o\n",
            "T\n"
          ]
        }
      ]
    }
  ]
}