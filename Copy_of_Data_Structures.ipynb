{
  "nbformat": 4,
  "nbformat_minor": 0,
  "metadata": {
    "colab": {
      "provenance": [],
      "include_colab_link": true
    },
    "kernelspec": {
      "name": "python3",
      "display_name": "Python 3"
    },
    "language_info": {
      "name": "python"
    }
  },
  "cells": [
    {
      "cell_type": "markdown",
      "metadata": {
        "id": "view-in-github",
        "colab_type": "text"
      },
      "source": [
        "<a href=\"https://colab.research.google.com/github/FatmaNjaah88/FatmaNjaah88/blob/main/Copy_of_Data_Structures.ipynb\" target=\"_parent\"><img src=\"https://colab.research.google.com/assets/colab-badge.svg\" alt=\"Open In Colab\"/></a>"
      ]
    },
    {
      "cell_type": "markdown",
      "source": [
        "# Data Structures"
      ],
      "metadata": {
        "id": "JJaWebcZWQ86"
      }
    },
    {
      "cell_type": "code",
      "source": [
        "# Exercise 1: List Operations\n",
        "# 1. Create a list of your favorite fruits.\n",
        "# 2. Add a new fruit to the list.\n",
        "# 3. Remove the first fruit from the list.\n",
        "# 4. Print the final list."
      ],
      "metadata": {
        "id": "63IYE0Vc1bn2"
      },
      "execution_count": null,
      "outputs": []
    },
    {
      "cell_type": "code",
      "source": [
        "fruits=[\"Apple\",\"Strawberry\",\"Banana\"];\n",
        "fruits.append(\"Orange\");\n",
        "fruits.remove(fruits[0]);\n",
        "print(fruits);\n"
      ],
      "metadata": {
        "colab": {
          "base_uri": "https://localhost:8080/"
        },
        "id": "dAPJEGAB2yJ-",
        "outputId": "33d9f92e-39e2-45d1-d3a5-ad75cee0b69f"
      },
      "execution_count": 3,
      "outputs": [
        {
          "output_type": "stream",
          "name": "stdout",
          "text": [
            "['Strawberry', 'Banana', 'Orange']\n"
          ]
        }
      ]
    },
    {
      "cell_type": "code",
      "source": [
        "# Exercise 2: List Indexing\n",
        "# 1. Create a list of your favorite colors.\n",
        "# 2. Print the first and last color from the list.\n"
      ],
      "metadata": {
        "id": "qb6Lg0Nc1bfZ"
      },
      "execution_count": null,
      "outputs": []
    },
    {
      "cell_type": "code",
      "source": [
        "colors=[\"Violet\",\"Red\",\"Green\",\"Purple\"];\n",
        "print(f\"{colors[0]}  , {colors[-1]}\");"
      ],
      "metadata": {
        "colab": {
          "base_uri": "https://localhost:8080/"
        },
        "id": "Rr_YFnBX4r9G",
        "outputId": "454fab67-68a6-4232-f3e4-77feca56fc12"
      },
      "execution_count": 8,
      "outputs": [
        {
          "output_type": "stream",
          "name": "stdout",
          "text": [
            "Violet  , Purple\n"
          ]
        }
      ]
    },
    {
      "cell_type": "code",
      "source": [
        "# Exercise 3: Tuple Operations\n",
        "# 1. Create a tuple with your birth year, birth month, and birth day.\n",
        "# 2. Print each element of the tuple.\n"
      ],
      "metadata": {
        "id": "QOJRqJ7n1bWu"
      },
      "execution_count": null,
      "outputs": []
    },
    {
      "cell_type": "code",
      "source": [
        "birth_date=(2004,5,17);\n",
        "for x in birth_date:\n",
        "  print(x);"
      ],
      "metadata": {
        "colab": {
          "base_uri": "https://localhost:8080/"
        },
        "id": "Csku-2Hm5Nzf",
        "outputId": "20b87355-3c2f-438a-a55c-346f588d9bba"
      },
      "execution_count": 6,
      "outputs": [
        {
          "output_type": "stream",
          "name": "stdout",
          "text": [
            "2004\n",
            "5\n",
            "17\n"
          ]
        }
      ]
    },
    {
      "cell_type": "code",
      "source": [
        "# Exercise 4: Tuple Immutability\n",
        "# 1. Try changing the birth month in the tuple to a different month.\n",
        "# 2. Print a message explaining why this operation is not allowed.\n",
        "\n",
        "# birth_date[1] = 6  # Uncommenting this line will cause an error\n",
        "print(\"Tuples are immutable, so you cannot change their elements.\")\n"
      ],
      "metadata": {
        "id": "jB_nT4s51bOf"
      },
      "execution_count": null,
      "outputs": []
    },
    {
      "cell_type": "code",
      "source": [
        "try:\n",
        "  birth_date[1] = 6;\n",
        "except :\n",
        "  print(\"Tuples are immutable, so you cannot change their elements.\");\n",
        "\n"
      ],
      "metadata": {
        "colab": {
          "base_uri": "https://localhost:8080/"
        },
        "id": "MV-2tCqC51WI",
        "outputId": "e9f29198-34b0-4098-daa7-e4385f27042f"
      },
      "execution_count": 1,
      "outputs": [
        {
          "output_type": "stream",
          "name": "stdout",
          "text": [
            "Tuples are immutable, so you cannot change their elements.\n"
          ]
        }
      ]
    },
    {
      "cell_type": "code",
      "source": [
        "# Exercise 5: Dictionary Operations\n",
        "# 1. Create a dictionary with keys \"name\", \"age\", and \"city\" and assign them appropriate values.\n",
        "# 2. Add a new key-value pair for \"favorite_color\".\n",
        "# 3. Update the \"age\" value.\n",
        "# 4. Print the dictionary.\n"
      ],
      "metadata": {
        "id": "E3fdvdfj1bF2"
      },
      "execution_count": null,
      "outputs": []
    },
    {
      "cell_type": "code",
      "source": [
        "dic={\"name\":\"Tomee\",\"age\":19,\"city\":\"Minya\"};\n",
        "dic[\"favorite_color\"]=\"Violet\";\n",
        "dic[\"age\"]=20;\n",
        "print(dic);"
      ],
      "metadata": {
        "colab": {
          "base_uri": "https://localhost:8080/"
        },
        "id": "m4S4yBU_JVHl",
        "outputId": "60393c79-552c-4454-e708-0322d89689c9"
      },
      "execution_count": 2,
      "outputs": [
        {
          "output_type": "stream",
          "name": "stdout",
          "text": [
            "{'name': 'Tomee', 'age': 20, 'city': 'Minya', 'favorite_color': 'Violet'}\n"
          ]
        }
      ]
    },
    {
      "cell_type": "code",
      "source": [
        "# Exercise 6: Dictionary Key Access\n",
        "# 1. Create a dictionary with your favorite movies and their release years.\n",
        "# 2. Print the release year of your favorite movie.\n"
      ],
      "metadata": {
        "id": "MJOnAeVf1a92"
      },
      "execution_count": null,
      "outputs": []
    },
    {
      "cell_type": "code",
      "source": [
        "favorite_movies={\"John Wick\":2014,\"Deadpool\":2016,\"Game Nigh\":2018,\"Smile\":2022};\n",
        "print(favorite_movies[\"Smile\"]);\n"
      ],
      "metadata": {
        "colab": {
          "base_uri": "https://localhost:8080/"
        },
        "id": "KKEVCLmEJ01X",
        "outputId": "e0f64a3b-fedf-4e06-b529-f6243462db29"
      },
      "execution_count": 7,
      "outputs": [
        {
          "output_type": "stream",
          "name": "stdout",
          "text": [
            "2022\n"
          ]
        }
      ]
    },
    {
      "cell_type": "code",
      "source": [
        "# Exercise 7: Set Operations\n",
        "# 1. Create a set of your favorite hobbies.\n",
        "# 2. Add a new hobby to the set.\n",
        "# 3. Remove a hobby from the set.\n",
        "# 4. Print the final set.\n"
      ],
      "metadata": {
        "id": "-QXDVT031a2B"
      },
      "execution_count": null,
      "outputs": []
    },
    {
      "cell_type": "code",
      "source": [
        "favorite_hobbies={\"Football\",\"Squash\",\"Drawing\"};\n",
        "favorite_hobbies.add(\"Tennis\");\n",
        "favorite_hobbies.remove(\"Drawing\");\n",
        "print(favorite_hobbies);"
      ],
      "metadata": {
        "colab": {
          "base_uri": "https://localhost:8080/"
        },
        "id": "ZOiqAHw7Laoe",
        "outputId": "d85f6b8c-34ed-4d24-d736-0df03ada90a0"
      },
      "execution_count": 9,
      "outputs": [
        {
          "output_type": "stream",
          "name": "stdout",
          "text": [
            "{'Squash', 'Football', 'Tennis'}\n"
          ]
        }
      ]
    },
    {
      "cell_type": "code",
      "source": [
        "# Exercise 8: Set Uniqueness\n",
        "# 1. Create a set with duplicate items.\n",
        "# 2. Print the set and explain what happens to the duplicates.\n"
      ],
      "metadata": {
        "id": "lXksc8hu1ath"
      },
      "execution_count": null,
      "outputs": []
    },
    {
      "cell_type": "code",
      "source": [
        "double={1,2,8,2,4,8};\n",
        "print(double);\n",
        "print(\"Sets do not allow duplicate values\");"
      ],
      "metadata": {
        "colab": {
          "base_uri": "https://localhost:8080/"
        },
        "id": "gnu2Q-j-NKGJ",
        "outputId": "5cdfc025-a3bb-4496-c384-cee91563b36b"
      },
      "execution_count": 15,
      "outputs": [
        {
          "output_type": "stream",
          "name": "stdout",
          "text": [
            "{8, 1, 2, 4}\n",
            "Sets are used to store multiple items in a single variable.\n"
          ]
        }
      ]
    },
    {
      "cell_type": "code",
      "source": [
        "# Exercise 9: Nested Data Structures\n",
        "# 1. Create a list of dictionaries, each representing a different person with keys \"name\" and \"age\".\n",
        "# 2. Print the name and age of the second person in the list.\n"
      ],
      "metadata": {
        "id": "o4Gk5p-K1alW"
      },
      "execution_count": null,
      "outputs": []
    },
    {
      "cell_type": "code",
      "source": [
        "l=[{\"name\":\"tomee\",\"age\":19},{\"name\":\"soly\",\"age\":20}];\n",
        "print(l[1])\n"
      ],
      "metadata": {
        "colab": {
          "base_uri": "https://localhost:8080/"
        },
        "id": "y_haN0gYONRU",
        "outputId": "d7f51ed4-7be3-47a5-b272-a5899c6aab05"
      },
      "execution_count": 18,
      "outputs": [
        {
          "output_type": "stream",
          "name": "stdout",
          "text": [
            "{'name': 'soly', 'age': 20}\n"
          ]
        }
      ]
    },
    {
      "cell_type": "code",
      "source": [
        "# Exercise 10: Combining Data Structures\n",
        "# 1. Create a dictionary where the keys are names of fruits and the values are lists of colors those fruits can have.\n",
        "# 2. Print the colors of a specific fruit.\n"
      ],
      "metadata": {
        "id": "ZcNOd-Ee1aeP"
      },
      "execution_count": null,
      "outputs": []
    },
    {
      "cell_type": "code",
      "source": [
        "fruits={\"Apple\":\"Red\",\"Banana\":\"Yellow\",\"Orange\":\"oeange\"};\n",
        "print(fruits[\"Apple\"]);"
      ],
      "metadata": {
        "colab": {
          "base_uri": "https://localhost:8080/"
        },
        "id": "zStzco9LPEtX",
        "outputId": "8dfe6471-a68f-4618-dbf2-9bdd48e7a164"
      },
      "execution_count": 19,
      "outputs": [
        {
          "output_type": "stream",
          "name": "stdout",
          "text": [
            "Red\n"
          ]
        }
      ]
    }
  ]
}