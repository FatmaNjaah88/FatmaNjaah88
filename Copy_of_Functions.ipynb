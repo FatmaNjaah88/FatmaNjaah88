{
  "nbformat": 4,
  "nbformat_minor": 0,
  "metadata": {
    "colab": {
      "provenance": [],
      "include_colab_link": true
    },
    "kernelspec": {
      "name": "python3",
      "display_name": "Python 3"
    },
    "language_info": {
      "name": "python"
    }
  },
  "cells": [
    {
      "cell_type": "markdown",
      "metadata": {
        "id": "view-in-github",
        "colab_type": "text"
      },
      "source": [
        "<a href=\"https://colab.research.google.com/github/FatmaNjaah88/FatmaNjaah88/blob/main/Copy_of_Functions.ipynb\" target=\"_parent\"><img src=\"https://colab.research.google.com/assets/colab-badge.svg\" alt=\"Open In Colab\"/></a>"
      ]
    },
    {
      "cell_type": "markdown",
      "source": [
        "# Functions"
      ],
      "metadata": {
        "id": "liRWubNQW8Xu"
      }
    },
    {
      "cell_type": "code",
      "source": [
        "# Exercise 1: Function Definition and Calling\n",
        "# Define a function named greet that takes a name as a parameter and prints \"Hello, [name]!\"\n",
        "\n",
        "# Call the function with your name\n"
      ],
      "metadata": {
        "id": "lHm2Lb-jWnyt"
      },
      "execution_count": null,
      "outputs": []
    },
    {
      "cell_type": "code",
      "source": [
        "def greet(name):\n",
        "  print(f\"Hello {name}\");\n",
        "\n",
        "greet(\"Tomee\");"
      ],
      "metadata": {
        "colab": {
          "base_uri": "https://localhost:8080/"
        },
        "id": "QrpuW23ovSej",
        "outputId": "7679c3cb-af06-4359-8227-46958dee4bbd"
      },
      "execution_count": 1,
      "outputs": [
        {
          "output_type": "stream",
          "name": "stdout",
          "text": [
            "Hello Tomee\n"
          ]
        }
      ]
    },
    {
      "cell_type": "code",
      "source": [
        "# Exercise 2: Function with Return Value\n",
        "# Define a function named add that takes two numbers as parameters and returns their sum\n",
        "\n",
        "# Call the function with two numbers and print the result\n"
      ],
      "metadata": {
        "id": "Uic2Jb9p2vLE"
      },
      "execution_count": null,
      "outputs": []
    },
    {
      "cell_type": "code",
      "source": [
        "def add(x,y):\n",
        "  return x+y;\n",
        "\n",
        "print(add(5,3));"
      ],
      "metadata": {
        "colab": {
          "base_uri": "https://localhost:8080/"
        },
        "id": "0Vl65NiovhMS",
        "outputId": "1db1ce8d-65fb-42b2-f30b-0717322f9f90"
      },
      "execution_count": 2,
      "outputs": [
        {
          "output_type": "stream",
          "name": "stdout",
          "text": [
            "8\n"
          ]
        }
      ]
    },
    {
      "cell_type": "code",
      "source": [
        "# Exercise 3: Function with Default Parameters\n",
        "# Define a function named introduce that takes a name and an age with a default value of 10, and prints a message\n",
        "\n",
        "# Call the function with and without the age parameter\n"
      ],
      "metadata": {
        "id": "tOI_5wIF2u7k"
      },
      "execution_count": null,
      "outputs": []
    },
    {
      "cell_type": "code",
      "source": [
        "def introduce(name,age=10):\n",
        "  print(f\"Your name is {name} ,  your age is {age}\");\n",
        "\n",
        "introduce(\"Tomee\");"
      ],
      "metadata": {
        "colab": {
          "base_uri": "https://localhost:8080/"
        },
        "id": "uYX_veZdvvpx",
        "outputId": "c0528493-d403-43fa-871f-9687f58a882d"
      },
      "execution_count": 3,
      "outputs": [
        {
          "output_type": "stream",
          "name": "stdout",
          "text": [
            "Your name is Tomee ,  your age is 10\n"
          ]
        }
      ]
    },
    {
      "cell_type": "code",
      "source": [
        "# Exercise 5: Function with Keyword Arguments\n",
        "# Define a function named describe_pet that takes a pet's name and type as keyword arguments and prints a message\n",
        "\n",
        "# Call the function with and without the pet_type argument\n"
      ],
      "metadata": {
        "id": "9kMDDDmk2ux_"
      },
      "execution_count": null,
      "outputs": []
    },
    {
      "cell_type": "code",
      "source": [
        "def describe_pet(name,type=\"Cat\"):\n",
        "  print(f\"Your {type}'s name is {name}\");\n",
        "\n",
        "describe_pet(\"Bondog\");\n"
      ],
      "metadata": {
        "colab": {
          "base_uri": "https://localhost:8080/"
        },
        "id": "CR_fOc2hwGEt",
        "outputId": "03433c7a-285b-44bb-f1d4-0283baa28a46"
      },
      "execution_count": 4,
      "outputs": [
        {
          "output_type": "stream",
          "name": "stdout",
          "text": [
            "Your Cat's name is Bondog\n"
          ]
        }
      ]
    },
    {
      "cell_type": "code",
      "source": [
        "# Exercise 6: Function Returning Multiple Values\n",
        "# Define a function named get_student_info that takes a student's name and grade, and returns both values\n",
        "\n",
        "# Call the function and print the returned values\n"
      ],
      "metadata": {
        "id": "r6q0HF8Y2uoy"
      },
      "execution_count": null,
      "outputs": []
    },
    {
      "cell_type": "code",
      "source": [
        "def get_student_info(name,grade):\n",
        "  return name,grade;\n",
        "\n",
        "print(get_student_info(\"Tomee\",98));\n"
      ],
      "metadata": {
        "colab": {
          "base_uri": "https://localhost:8080/"
        },
        "id": "oS3IMaeOw0jd",
        "outputId": "b92defcf-dbee-49b1-f1e2-40cdaa27fa6b"
      },
      "execution_count": 5,
      "outputs": [
        {
          "output_type": "stream",
          "name": "stdout",
          "text": [
            "('Tomee', 98)\n"
          ]
        }
      ]
    },
    {
      "cell_type": "code",
      "source": [
        "# Exercise 7: Recursive Function\n",
        "# Define a recursive function named factorial that returns the factorial of a given number\n",
        "\n",
        "# Call the function and print the result\n"
      ],
      "metadata": {
        "id": "iDURAZLb2uf3"
      },
      "execution_count": null,
      "outputs": []
    },
    {
      "cell_type": "code",
      "source": [
        "def factorial(n):\n",
        "  fact=1;\n",
        "  while n>0:\n",
        "    fact*=n;\n",
        "    n-=1;\n",
        "  return fact;\n",
        "\n",
        "print(f\"5! = {factorial(5)}\");\n"
      ],
      "metadata": {
        "colab": {
          "base_uri": "https://localhost:8080/"
        },
        "id": "rRzgmVcBxJhy",
        "outputId": "5f004543-61aa-4161-cce6-60547fe05d8b"
      },
      "execution_count": 7,
      "outputs": [
        {
          "output_type": "stream",
          "name": "stdout",
          "text": [
            "5! = 120\n"
          ]
        }
      ]
    },
    {
      "cell_type": "code",
      "source": [
        "# Exercise 8: Lambda Functions\n",
        "# Define a lambda function named double that takes a number and returns its double\n",
        "\n",
        "# Call the lambda function and print the result\n"
      ],
      "metadata": {
        "id": "d6ZsZ6eM2uWy"
      },
      "execution_count": null,
      "outputs": []
    },
    {
      "cell_type": "code",
      "source": [
        "double=lambda n : n*2;\n",
        "print(double(4));"
      ],
      "metadata": {
        "colab": {
          "base_uri": "https://localhost:8080/"
        },
        "id": "obBm1bJ0xmbp",
        "outputId": "a5bc1c1e-0f0a-41fb-8bc4-d5d9b0231a67"
      },
      "execution_count": 2,
      "outputs": [
        {
          "output_type": "stream",
          "name": "stdout",
          "text": [
            "8\n"
          ]
        }
      ]
    },
    {
      "cell_type": "code",
      "source": [
        "# Exercise 9: Higher-Order Functions\n",
        "# Define a function named apply_function that takes a function and a value,\n",
        "# and returns the result of applying the function to the value\n",
        "\n",
        "# Call the function with the lambda function double and a value, then print the result\n"
      ],
      "metadata": {
        "id": "K8MEX5AJ2uMA"
      },
      "execution_count": null,
      "outputs": []
    },
    {
      "cell_type": "code",
      "source": [
        " def apply_function(double,n):\n",
        "  return double(n);\n",
        "\n",
        "\n",
        "print(apply_function(double,4))\n",
        "\n"
      ],
      "metadata": {
        "colab": {
          "base_uri": "https://localhost:8080/"
        },
        "id": "7E7x4049x9vG",
        "outputId": "bae70eef-42a9-417e-9e94-00bd8b0dbe32"
      },
      "execution_count": 5,
      "outputs": [
        {
          "output_type": "stream",
          "name": "stdout",
          "text": [
            "8\n"
          ]
        }
      ]
    },
    {
      "cell_type": "code",
      "source": [
        "# Exercise 10: Functions with Lists\n",
        "# Define a function named find_max that takes a list of numbers and returns the maximum value\n",
        "\n",
        "# Call the function with a list of numbers and print the result\n"
      ],
      "metadata": {
        "id": "NO8HDT3h2uCp"
      },
      "execution_count": null,
      "outputs": []
    },
    {
      "cell_type": "code",
      "source": [
        "def find_max(l):\n",
        "  return max(l);\n",
        "\n",
        "l=[2,5,8,3,4];\n",
        "print(find_max(l));"
      ],
      "metadata": {
        "colab": {
          "base_uri": "https://localhost:8080/"
        },
        "id": "xWbBEO1cyvGB",
        "outputId": "38246700-9c49-40e1-c590-2d391ce150d6"
      },
      "execution_count": 11,
      "outputs": [
        {
          "output_type": "stream",
          "name": "stdout",
          "text": [
            "8\n"
          ]
        }
      ]
    }
  ]
}