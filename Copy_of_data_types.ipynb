{
  "nbformat": 4,
  "nbformat_minor": 0,
  "metadata": {
    "colab": {
      "provenance": [],
      "include_colab_link": true
    },
    "kernelspec": {
      "name": "python3",
      "display_name": "Python 3"
    },
    "language_info": {
      "name": "python"
    }
  },
  "cells": [
    {
      "cell_type": "markdown",
      "metadata": {
        "id": "view-in-github",
        "colab_type": "text"
      },
      "source": [
        "<a href=\"https://colab.research.google.com/github/FatmaNjaah88/FatmaNjaah88/blob/main/Copy_of_data_types.ipynb\" target=\"_parent\"><img src=\"https://colab.research.google.com/assets/colab-badge.svg\" alt=\"Open In Colab\"/></a>"
      ]
    },
    {
      "cell_type": "markdown",
      "source": [
        "# Data Types"
      ],
      "metadata": {
        "id": "fe03kwcgUgu6"
      }
    },
    {
      "cell_type": "code",
      "source": [
        "# Exercise 1: Identify Data Types\n",
        "# Instructions:\n",
        "# 1. Create variables of different types: integer, float, string, list, and boolean.\n",
        "# 2. Print the type of each variable using the type() function.\n"
      ],
      "metadata": {
        "id": "XThtRPwru_x9"
      },
      "execution_count": null,
      "outputs": []
    },
    {
      "cell_type": "code",
      "source": [
        "x=8;\n",
        "y=8.8;\n",
        "s=\"tomee\";\n",
        "l=[1,2,3,4];\n",
        "flag=True;\n",
        "print(type(x));\n",
        "print(type(y));\n",
        "print(type(s));\n",
        "print(type(l));\n",
        "print(type(flag));"
      ],
      "metadata": {
        "colab": {
          "base_uri": "https://localhost:8080/"
        },
        "id": "vOjgTiusBGx5",
        "outputId": "90ef6b37-906b-4bc2-8979-c8a3ab5e0d31"
      },
      "execution_count": 5,
      "outputs": [
        {
          "output_type": "stream",
          "name": "stdout",
          "text": [
            "<class 'int'>\n",
            "<class 'float'>\n",
            "<class 'str'>\n",
            "<class 'list'>\n",
            "<class 'bool'>\n"
          ]
        }
      ]
    },
    {
      "cell_type": "code",
      "source": [
        "# Exercise 2: List Operations\n",
        "# Instructions:\n",
        "# 1. Create a list of your favorite fruits.\n",
        "# 2. Add a new fruit to the list.\n",
        "# 3. Remove a fruit from the list.\n",
        "# 4. Print the updated list."
      ],
      "metadata": {
        "id": "NucIs2jyvJNa"
      },
      "execution_count": null,
      "outputs": []
    },
    {
      "cell_type": "code",
      "source": [
        "fruits=[\"Strawberry\",\"Apple\",\"Banana\"];\n",
        "fruits.append(\"Orange\");\n",
        "fruits.pop();#remove last element(orange)\n",
        "fruits.remove(\"Apple\");#remove specific element\n",
        "print(fruits);\n"
      ],
      "metadata": {
        "colab": {
          "base_uri": "https://localhost:8080/"
        },
        "id": "jQuZIoN4B3BK",
        "outputId": "8f500c71-f0e3-4ead-ec5b-29ab5cf6eba2"
      },
      "execution_count": 9,
      "outputs": [
        {
          "output_type": "stream",
          "name": "stdout",
          "text": [
            "['Strawberry', 'Banana']\n"
          ]
        }
      ]
    },
    {
      "cell_type": "code",
      "source": [
        "# Exercise 3: Dictionary Operations\n",
        "# Instructions:\n",
        "# 1. Create a dictionary with keys \"name\", \"age\", and \"city\" and assign them values.\n",
        "# 2. Add a new key-value pair to the dictionary.\n",
        "# 3. Update the value of the \"age\" key.\n",
        "# 4. Print the updated dictionary."
      ],
      "metadata": {
        "id": "G73njCCVvJD6"
      },
      "execution_count": null,
      "outputs": []
    },
    {
      "cell_type": "code",
      "source": [
        "dic={\"name\":\"tomee\",\"age\":19,\"city\":\"mallawi\"};\n",
        "dic['type']=\"female\";\n",
        "dic[\"age\"]=20;\n",
        "print(dic);\n"
      ],
      "metadata": {
        "colab": {
          "base_uri": "https://localhost:8080/"
        },
        "id": "Mfeq8PB2C6DN",
        "outputId": "99b694bd-3927-4b74-a203-db47d46308cf"
      },
      "execution_count": 12,
      "outputs": [
        {
          "output_type": "stream",
          "name": "stdout",
          "text": [
            "{'name': 'tomee', 'age': 20, 'city': 'mallawi', 'type': 'female'}\n"
          ]
        }
      ]
    },
    {
      "cell_type": "code",
      "source": [
        "\n",
        "# Exercise 4: String Formatting\n",
        "# Instructions:\n",
        "# 1. Create variables `name`, `age`, and `city` and assign them values.\n",
        "# 2. Use an f-string to print a sentence that includes these variables."
      ],
      "metadata": {
        "id": "74tHC13kvI3c"
      },
      "execution_count": null,
      "outputs": []
    },
    {
      "cell_type": "code",
      "source": [
        "name=\"tome\";\n",
        "age=20;\n",
        "city=\"mallawi\";\n",
        "print(f\"Name : {name} , Age : {age} , City : {city}\");"
      ],
      "metadata": {
        "colab": {
          "base_uri": "https://localhost:8080/"
        },
        "id": "1wJt4901Gz_0",
        "outputId": "72ec95bf-196d-4cb8-fe64-7ad907c1d2ea"
      },
      "execution_count": 13,
      "outputs": [
        {
          "output_type": "stream",
          "name": "stdout",
          "text": [
            "Name : tome , Age : 20 , City : mallawi\n"
          ]
        }
      ]
    },
    {
      "cell_type": "code",
      "source": [
        "# Exercise 5: Tuple Unpacking\n",
        "# Instructions:\n",
        "# 1. Create a tuple with three elements: your name, your age, and your favorite color.\n",
        "# 2. Unpack the tuple into three variables.\n",
        "# 3. Print each variable."
      ],
      "metadata": {
        "id": "sgfKtAhpvIyw"
      },
      "execution_count": null,
      "outputs": []
    },
    {
      "cell_type": "code",
      "source": [
        "t=(\"tomee\",20,\"mallawi\");\n",
        "(name,age,city)=t;\n",
        "print(name);\n",
        "print(age);\n",
        "print(city);"
      ],
      "metadata": {
        "colab": {
          "base_uri": "https://localhost:8080/"
        },
        "id": "iRZ3ChX7HOt7",
        "outputId": "71ab0cb1-cd5c-46e3-f9df-7087b69c9c2c"
      },
      "execution_count": 14,
      "outputs": [
        {
          "output_type": "stream",
          "name": "stdout",
          "text": [
            "tomee\n",
            "20\n",
            "mallawi\n"
          ]
        }
      ]
    },
    {
      "cell_type": "code",
      "source": [
        "\n",
        "# Exercise 6: Set Operations\n",
        "# Instructions:\n",
        "# 1. Create a set of your favorite numbers.\n",
        "# 2. Add a new number to the set.\n",
        "# 3. Remove a number from the set.\n",
        "# 4. Print the updated set."
      ],
      "metadata": {
        "id": "yvHiFXJ9vIHB"
      },
      "execution_count": null,
      "outputs": []
    },
    {
      "cell_type": "code",
      "source": [
        "FavNums=[4,8,16];\n",
        "FavNums.append(32);\n",
        "FavNums.remove(4);\n",
        "print(FavNums);"
      ],
      "metadata": {
        "colab": {
          "base_uri": "https://localhost:8080/"
        },
        "id": "H8cmUEpwH6dw",
        "outputId": "ddfd0ec7-bf0b-44b9-b57e-cd7e6573aff6"
      },
      "execution_count": 15,
      "outputs": [
        {
          "output_type": "stream",
          "name": "stdout",
          "text": [
            "[8, 16, 32]\n"
          ]
        }
      ]
    },
    {
      "cell_type": "code",
      "source": [
        "\n",
        "# Exercise 7: Boolean Logic\n",
        "# Instructions:\n",
        "# 1. Create two boolean variables `is_student` and `is_employed`.\n",
        "# 2. Use boolean logic to print whether you are a student or employed or both."
      ],
      "metadata": {
        "id": "NMmRBVKcvH7V"
      },
      "execution_count": null,
      "outputs": []
    },
    {
      "cell_type": "code",
      "source": [
        "is_student=True;\n",
        "is_employed=False;\n",
        "print(f\"She is student? {is_student}\");\n",
        "print(f\"She is employed? {is_employed}\");"
      ],
      "metadata": {
        "colab": {
          "base_uri": "https://localhost:8080/"
        },
        "id": "-Gzyk0RVK6qy",
        "outputId": "faedb8fa-57c6-4c0c-94d4-449e01f85cee"
      },
      "execution_count": 17,
      "outputs": [
        {
          "output_type": "stream",
          "name": "stdout",
          "text": [
            "She is student? True\n",
            "She is employed? False\n"
          ]
        }
      ]
    },
    {
      "cell_type": "code",
      "source": [
        "\n",
        "# Exercise 8: Type Conversion\n",
        "# Instructions:\n",
        "# 1. Create a string variable that contains a number.\n",
        "# 2. Convert the string to an integer.\n",
        "# 3. Convert the integer to a float.\n",
        "# 4. Print the original string, the integer, and the float."
      ],
      "metadata": {
        "id": "4JxQpDwivHvE"
      },
      "execution_count": null,
      "outputs": []
    },
    {
      "cell_type": "code",
      "source": [
        "s=\"234\";\n",
        "i=int(s);\n",
        "f=float(i);\n",
        "print(s);\n",
        "print(i);\n",
        "print(f);"
      ],
      "metadata": {
        "colab": {
          "base_uri": "https://localhost:8080/"
        },
        "id": "xxKdSJ0KMDql",
        "outputId": "159615e4-9662-4bcd-9999-863ff06eed82"
      },
      "execution_count": 18,
      "outputs": [
        {
          "output_type": "stream",
          "name": "stdout",
          "text": [
            "234\n",
            "234\n",
            "234.0\n"
          ]
        }
      ]
    },
    {
      "cell_type": "code",
      "source": [
        "# Exercise 9: Complex Numbers\n",
        "# Instructions:\n",
        "# 1. Create a complex number.\n",
        "# 2. Print its real and imaginary parts separately."
      ],
      "metadata": {
        "id": "dnMXnpSrvHgt"
      },
      "execution_count": null,
      "outputs": []
    },
    {
      "cell_type": "code",
      "source": [
        "x=8+4j;\n",
        "print(x.real);\n",
        "print(x.imag);\n",
        "\n"
      ],
      "metadata": {
        "colab": {
          "base_uri": "https://localhost:8080/"
        },
        "id": "Kgf-jmTAMb-q",
        "outputId": "0bcb42ff-7e99-485a-a4ea-9f5432936f06"
      },
      "execution_count": 26,
      "outputs": [
        {
          "output_type": "stream",
          "name": "stdout",
          "text": [
            "8.0\n",
            "4.0\n"
          ]
        }
      ]
    },
    {
      "cell_type": "code",
      "source": [
        "# Exercise 10: String Methods\n",
        "# Instructions:\n",
        "# 1. Create a string variable.\n",
        "# 2. Use different string methods to transform the string and print the results.\n",
        "# Convert to uppercase\n",
        "# Capitalize the first letter\n",
        "# Replace a substring\n"
      ],
      "metadata": {
        "id": "jq8DKXE6T0FY"
      },
      "execution_count": null,
      "outputs": []
    },
    {
      "cell_type": "code",
      "source": [
        "s=\"my name is tomee\";\n",
        "print(s.upper());\n",
        "print(s.capitalize());\n",
        "print(s.replace(\"tomee\",\"fatoom\"));\n"
      ],
      "metadata": {
        "colab": {
          "base_uri": "https://localhost:8080/"
        },
        "id": "4iGmkuNEOb4v",
        "outputId": "85847b17-99e5-46ff-f737-6044fba7532d"
      },
      "execution_count": 29,
      "outputs": [
        {
          "output_type": "stream",
          "name": "stdout",
          "text": [
            "MY NAME IS TOMEE\n",
            "My name is tomee\n",
            "my name is fatoom\n"
          ]
        }
      ]
    }
  ]
}